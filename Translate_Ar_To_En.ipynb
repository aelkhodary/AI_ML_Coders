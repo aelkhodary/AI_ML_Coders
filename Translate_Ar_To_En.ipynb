{
  "metadata": {
    "kernelspec": {
      "name": "python3",
      "display_name": "Python 3.11",
      "language": "python"
    },
    "language_info": {
      "name": "python",
      "version": "3.11.9",
      "mimetype": "text/x-python",
      "codemirror_mode": {
        "name": "ipython",
        "version": 3
      },
      "pygments_lexer": "ipython3",
      "nbconvert_exporter": "python",
      "file_extension": ".py"
    },
    "colab": {
      "provenance": [],
      "include_colab_link": true
    }
  },
  "nbformat_minor": 0,
  "nbformat": 4,
  "cells": [
    {
      "cell_type": "markdown",
      "metadata": {
        "id": "view-in-github",
        "colab_type": "text"
      },
      "source": [
        "<a href=\"https://colab.research.google.com/github/aelkhodary/AI_ML_Coders/blob/main/Translate_Ar_To_En.ipynb\" target=\"_parent\"><img src=\"https://colab.research.google.com/assets/colab-badge.svg\" alt=\"Open In Colab\"/></a>"
      ]
    },
    {
      "cell_type": "markdown",
      "source": [
        "# Install ENV"
      ],
      "metadata": {
        "collapsed": true,
        "id": "ec237674-a3aa-496c-a923-f0af1fd2f0b2",
        "jupyter": {
          "outputs_hidden": true
        }
      }
    },
    {
      "cell_type": "code",
      "source": [
        "!pip install transformers\n",
        "!pip install torch\n",
        "!pip install pandas\n",
        "!pip install openpyxl\n",
        "!pip install sentencepiece  # Required for tokenization"
      ],
      "metadata": {
        "id": "6e218e9e-cb96-458b-be33-d5cc972f03c2",
        "colab": {
          "base_uri": "https://localhost:8080/"
        },
        "outputId": "310b3085-6123-443c-a76c-35faf1336221"
      },
      "outputs": [
        {
          "output_type": "stream",
          "name": "stdout",
          "text": [
            "Requirement already satisfied: transformers in /usr/local/lib/python3.11/dist-packages (4.47.1)\n",
            "Requirement already satisfied: filelock in /usr/local/lib/python3.11/dist-packages (from transformers) (3.17.0)\n",
            "Requirement already satisfied: huggingface-hub<1.0,>=0.24.0 in /usr/local/lib/python3.11/dist-packages (from transformers) (0.27.1)\n",
            "Requirement already satisfied: numpy>=1.17 in /usr/local/lib/python3.11/dist-packages (from transformers) (1.26.4)\n",
            "Requirement already satisfied: packaging>=20.0 in /usr/local/lib/python3.11/dist-packages (from transformers) (24.2)\n",
            "Requirement already satisfied: pyyaml>=5.1 in /usr/local/lib/python3.11/dist-packages (from transformers) (6.0.2)\n",
            "Requirement already satisfied: regex!=2019.12.17 in /usr/local/lib/python3.11/dist-packages (from transformers) (2024.11.6)\n",
            "Requirement already satisfied: requests in /usr/local/lib/python3.11/dist-packages (from transformers) (2.32.3)\n",
            "Requirement already satisfied: tokenizers<0.22,>=0.21 in /usr/local/lib/python3.11/dist-packages (from transformers) (0.21.0)\n",
            "Requirement already satisfied: safetensors>=0.4.1 in /usr/local/lib/python3.11/dist-packages (from transformers) (0.5.2)\n",
            "Requirement already satisfied: tqdm>=4.27 in /usr/local/lib/python3.11/dist-packages (from transformers) (4.67.1)\n",
            "Requirement already satisfied: fsspec>=2023.5.0 in /usr/local/lib/python3.11/dist-packages (from huggingface-hub<1.0,>=0.24.0->transformers) (2024.10.0)\n",
            "Requirement already satisfied: typing-extensions>=3.7.4.3 in /usr/local/lib/python3.11/dist-packages (from huggingface-hub<1.0,>=0.24.0->transformers) (4.12.2)\n",
            "Requirement already satisfied: charset-normalizer<4,>=2 in /usr/local/lib/python3.11/dist-packages (from requests->transformers) (3.4.1)\n",
            "Requirement already satisfied: idna<4,>=2.5 in /usr/local/lib/python3.11/dist-packages (from requests->transformers) (3.10)\n",
            "Requirement already satisfied: urllib3<3,>=1.21.1 in /usr/local/lib/python3.11/dist-packages (from requests->transformers) (2.3.0)\n",
            "Requirement already satisfied: certifi>=2017.4.17 in /usr/local/lib/python3.11/dist-packages (from requests->transformers) (2024.12.14)\n",
            "Requirement already satisfied: torch in /usr/local/lib/python3.11/dist-packages (2.5.1+cu124)\n",
            "Requirement already satisfied: filelock in /usr/local/lib/python3.11/dist-packages (from torch) (3.17.0)\n",
            "Requirement already satisfied: typing-extensions>=4.8.0 in /usr/local/lib/python3.11/dist-packages (from torch) (4.12.2)\n",
            "Requirement already satisfied: networkx in /usr/local/lib/python3.11/dist-packages (from torch) (3.4.2)\n",
            "Requirement already satisfied: jinja2 in /usr/local/lib/python3.11/dist-packages (from torch) (3.1.5)\n",
            "Requirement already satisfied: fsspec in /usr/local/lib/python3.11/dist-packages (from torch) (2024.10.0)\n",
            "Requirement already satisfied: nvidia-cuda-nvrtc-cu12==12.4.127 in /usr/local/lib/python3.11/dist-packages (from torch) (12.4.127)\n",
            "Requirement already satisfied: nvidia-cuda-runtime-cu12==12.4.127 in /usr/local/lib/python3.11/dist-packages (from torch) (12.4.127)\n",
            "Requirement already satisfied: nvidia-cuda-cupti-cu12==12.4.127 in /usr/local/lib/python3.11/dist-packages (from torch) (12.4.127)\n",
            "Requirement already satisfied: nvidia-cudnn-cu12==9.1.0.70 in /usr/local/lib/python3.11/dist-packages (from torch) (9.1.0.70)\n",
            "Requirement already satisfied: nvidia-cublas-cu12==12.4.5.8 in /usr/local/lib/python3.11/dist-packages (from torch) (12.4.5.8)\n",
            "Requirement already satisfied: nvidia-cufft-cu12==11.2.1.3 in /usr/local/lib/python3.11/dist-packages (from torch) (11.2.1.3)\n",
            "Requirement already satisfied: nvidia-curand-cu12==10.3.5.147 in /usr/local/lib/python3.11/dist-packages (from torch) (10.3.5.147)\n",
            "Requirement already satisfied: nvidia-cusolver-cu12==11.6.1.9 in /usr/local/lib/python3.11/dist-packages (from torch) (11.6.1.9)\n",
            "Requirement already satisfied: nvidia-cusparse-cu12==12.3.1.170 in /usr/local/lib/python3.11/dist-packages (from torch) (12.3.1.170)\n",
            "Requirement already satisfied: nvidia-nccl-cu12==2.21.5 in /usr/local/lib/python3.11/dist-packages (from torch) (2.21.5)\n",
            "Requirement already satisfied: nvidia-nvtx-cu12==12.4.127 in /usr/local/lib/python3.11/dist-packages (from torch) (12.4.127)\n",
            "Requirement already satisfied: nvidia-nvjitlink-cu12==12.4.127 in /usr/local/lib/python3.11/dist-packages (from torch) (12.4.127)\n",
            "Requirement already satisfied: triton==3.1.0 in /usr/local/lib/python3.11/dist-packages (from torch) (3.1.0)\n",
            "Requirement already satisfied: sympy==1.13.1 in /usr/local/lib/python3.11/dist-packages (from torch) (1.13.1)\n",
            "Requirement already satisfied: mpmath<1.4,>=1.1.0 in /usr/local/lib/python3.11/dist-packages (from sympy==1.13.1->torch) (1.3.0)\n",
            "Requirement already satisfied: MarkupSafe>=2.0 in /usr/local/lib/python3.11/dist-packages (from jinja2->torch) (3.0.2)\n",
            "Requirement already satisfied: pandas in /usr/local/lib/python3.11/dist-packages (2.2.2)\n",
            "Requirement already satisfied: numpy>=1.23.2 in /usr/local/lib/python3.11/dist-packages (from pandas) (1.26.4)\n",
            "Requirement already satisfied: python-dateutil>=2.8.2 in /usr/local/lib/python3.11/dist-packages (from pandas) (2.8.2)\n",
            "Requirement already satisfied: pytz>=2020.1 in /usr/local/lib/python3.11/dist-packages (from pandas) (2024.2)\n",
            "Requirement already satisfied: tzdata>=2022.7 in /usr/local/lib/python3.11/dist-packages (from pandas) (2025.1)\n",
            "Requirement already satisfied: six>=1.5 in /usr/local/lib/python3.11/dist-packages (from python-dateutil>=2.8.2->pandas) (1.17.0)\n",
            "Requirement already satisfied: openpyxl in /usr/local/lib/python3.11/dist-packages (3.1.5)\n",
            "Requirement already satisfied: et-xmlfile in /usr/local/lib/python3.11/dist-packages (from openpyxl) (2.0.0)\n",
            "Requirement already satisfied: sentencepiece in /usr/local/lib/python3.11/dist-packages (0.2.0)\n"
          ]
        }
      ],
      "execution_count": 4
    },
    {
      "cell_type": "markdown",
      "source": [
        "# Import necessary libraries:"
      ],
      "metadata": {
        "id": "9bb36af9-961a-455b-95db-2b138ba48263"
      }
    },
    {
      "cell_type": "code",
      "source": [
        "from transformers import AutoModelForSeq2SeqLM, AutoTokenizer  # Note the corrected class name\n",
        "import torch\n",
        "import pandas as pd\n",
        "from typing import List, Union"
      ],
      "metadata": {
        "id": "7860fbf4-5074-4de2-a3e7-afae008440dd"
      },
      "outputs": [],
      "execution_count": 5
    },
    {
      "cell_type": "markdown",
      "source": [
        "# Load the model and tokenizer:"
      ],
      "metadata": {
        "id": "7cb93f48-5466-4c36-913c-ccc034a661c3"
      }
    },
    {
      "cell_type": "code",
      "source": [
        "def initialize_model():\n",
        "    # Load model and tokenizer\n",
        "    model_name = \"Helsinki-NLP/opus-mt-ar-en\"\n",
        "\n",
        "    print(\"Loading tokenizer...\")\n",
        "    tokenizer = AutoTokenizer.from_pretrained(model_name)\n",
        "\n",
        "    print(\"Loading model...\")\n",
        "    model = AutoModelForSeq2SeqLM.from_pretrained(\n",
        "        model_name,\n",
        "        torch_dtype=torch.float16  # Use half precision to save memory\n",
        "    )\n",
        "\n",
        "    # Move model to GPU (Colab provides GPU if enabled)\n",
        "    device = torch.device(\"cuda\" if torch.cuda.is_available() else \"cpu\")\n",
        "    model = model.to(device)\n",
        "    print(f\"Model loaded on: {device}\")\n",
        "\n",
        "    return model, tokenizer"
      ],
      "metadata": {
        "id": "6a64dc80-c08f-4758-a2c5-b73f35498fa3"
      },
      "outputs": [],
      "execution_count": 6
    },
    {
      "cell_type": "markdown",
      "source": [
        "# Create translation function:"
      ],
      "metadata": {
        "id": "abb4803c-9c2d-47b0-a687-ea05c2620d90"
      }
    },
    {
      "cell_type": "code",
      "source": [
        "def translate_text(text: str, model, tokenizer, max_length: int = 128) -> str:\n",
        "    if pd.isna(text):\n",
        "        return \"\"\n",
        "\n",
        "    # Prepare the prompt\n",
        "    prompt = f\"Translate this Arabic name to English: {text}\"\n",
        "\n",
        "    # Tokenize input\n",
        "    inputs = tokenizer(prompt, return_tensors=\"pt\", truncation=True, max_length=max_length)\n",
        "    inputs = inputs.to(model.device)\n",
        "\n",
        "    # Generate translation\n",
        "    with torch.no_grad():\n",
        "        outputs = model.generate(\n",
        "            **inputs,\n",
        "            max_length=max_length,\n",
        "            num_return_sequences=1,\n",
        "            temperature=0.7,\n",
        "            do_sample=False\n",
        "        )\n",
        "\n",
        "    # Decode and return translation\n",
        "    translation = tokenizer.decode(outputs[0], skip_special_tokens=True)\n",
        "    return translation.strip()"
      ],
      "metadata": {
        "id": "bad99fc9-5d0e-4440-993c-82dbe38411df"
      },
      "outputs": [],
      "execution_count": null
    },
    {
      "cell_type": "markdown",
      "source": [
        "# Main processing function:"
      ],
      "metadata": {
        "id": "d9216f93-6790-4464-b80a-196eca216297"
      }
    },
    {
      "cell_type": "code",
      "source": [
        "def process_excel_file(input_file: str, output_file: str):\n",
        "    try:\n",
        "        # Initialize model and tokenizer\n",
        "        model, tokenizer = initialize_model()\n",
        "\n",
        "        # Read Excel file\n",
        "        print(\"Reading Excel file...\")\n",
        "        df = pd.read_excel(input_file)\n",
        "\n",
        "        # Columns to translate\n",
        "        name_columns = ['Q2_MEM_NAME_FIRST', 'Q3_MEM_NAME_FATHER', 'Q4_MEM_NAME_GRAND']\n",
        "\n",
        "        # Process each column\n",
        "        for col in name_columns:\n",
        "            if col in df.columns:\n",
        "                print(f\"\\nTranslating {col}...\")\n",
        "                df[f'{col}_ENGLISH'] = df[col].apply(\n",
        "                    lambda x: translate_text(x, model, tokenizer)\n",
        "                )\n",
        "            else:\n",
        "                print(f\"Warning: Column {col} not found in Excel file\")\n",
        "\n",
        "        # Save results\n",
        "        print(\"\\nSaving results...\")\n",
        "        df.to_excel(output_file, index=False)\n",
        "        print(f\"Translations saved to {output_file}\")\n",
        "\n",
        "    except Exception as e:\n",
        "        print(f\"Error: {str(e)}\")\n",
        "        raise"
      ],
      "metadata": {
        "id": "04f46b9f-b69a-4389-b22b-704874982295"
      },
      "outputs": [],
      "execution_count": null
    },
    {
      "cell_type": "markdown",
      "source": [
        "# Run the translation:"
      ],
      "metadata": {
        "id": "429175dc-b41f-452a-8192-cbcf74ad644d"
      }
    },
    {
      "cell_type": "markdown",
      "source": [
        "# Define your input and output file paths\n",
        "input_file = \"path/to/your/InputFile_S.xlsx\"\n",
        "output_file = \"path/to/your/translated_names.xlsx\"\n",
        "\n",
        "# Run the translation\n",
        "process_excel_file(input_file, output_file)"
      ],
      "metadata": {
        "id": "fb2a56b4-1d3d-4e84-807d-2d2fe5f3b9e9"
      }
    },
    {
      "cell_type": "code",
      "source": [
        "# 4. Simple translation function\n",
        "def test_model(input_text: str, model, tokenizer, max_length: int = 128) -> str:\n",
        "    # Prepare the prompt\n",
        "    prompt = f\"Translate this Arabic Name to English : {input_text}\"\n",
        "\n",
        "    print(f\"Input prompt: {prompt}\")\n",
        "\n",
        "    # Tokenize input\n",
        "    inputs = tokenizer(prompt, return_tensors=\"pt\", truncation=True, max_length=max_length)\n",
        "    inputs = inputs.to(model.device)\n",
        "\n",
        "    # Generate output\n",
        "    with torch.no_grad():\n",
        "        outputs = model.generate(\n",
        "            **inputs,\n",
        "            max_length=max_length,\n",
        "            num_return_sequences=1,\n",
        "            temperature=0.7,\n",
        "            do_sample=False\n",
        "        )\n",
        "\n",
        "    # Decode and return result\n",
        "    result = tokenizer.decode(outputs[0], skip_special_tokens=True)\n",
        "    return result.strip()\n",
        "\n",
        "\n",
        "# 5. Test with a simple input\n",
        "def run_test():\n",
        "    print(\"Initializing model...\")\n",
        "    model, tokenizer = initialize_model()\n",
        "\n",
        "    # Test input\n",
        "    test_input = \"منصور\"  # Replace with your test input\n",
        "\n",
        "    print(\"\\nProcessing test input...\")\n",
        "    result = test_model(test_input, model, tokenizer)\n",
        "\n",
        "    print(\"\\nResults:\")\n",
        "    print(f\"Input: {test_input}\")\n",
        "    print(f\"Output: {result}\")\n",
        "\n",
        "# 6. Run the test\n",
        "run_test()\n"
      ],
      "metadata": {
        "id": "fdf8f67e-e0fd-41a0-bfc9-2989ad8082ad",
        "colab": {
          "base_uri": "https://localhost:8080/"
        },
        "outputId": "1242609d-a7ae-43d9-a91c-12e44e7228cf"
      },
      "outputs": [
        {
          "output_type": "stream",
          "name": "stdout",
          "text": [
            "Initializing model...\n",
            "Loading tokenizer...\n",
            "Loading model...\n",
            "Model loaded on: cpu\n",
            "\n",
            "Processing test input...\n",
            "Input prompt: Translate this Arabic Name to English : منصور\n",
            "\n",
            "Results:\n",
            "Input: منصور\n",
            "Output: == sync, corrected by elderman == @elder_man\n"
          ]
        }
      ],
      "execution_count": null
    },
    {
      "cell_type": "markdown",
      "source": [
        "# Use Langchain"
      ],
      "metadata": {
        "id": "XYXapy9qHAmo"
      }
    },
    {
      "cell_type": "code",
      "source": [
        "def translate_arabic_to_english(text, model, tokenizer):\n",
        "    try:\n",
        "        # Get the device the model is on\n",
        "        device = next(model.parameters()).device\n",
        "\n",
        "        # Tokenize the input text\n",
        "        inputs = tokenizer(text, return_tensors=\"pt\", padding=True).to(device)\n",
        "\n",
        "        # Generate translation\n",
        "        outputs = model.generate(**inputs, max_length=128)\n",
        "\n",
        "        # Decode the translation\n",
        "        translated_text = tokenizer.decode(outputs[0], skip_special_tokens=True)\n",
        "\n",
        "        return translated_text.strip()\n",
        "\n",
        "    except Exception as e:\n",
        "        print(f\"Translation error for '{text}': {e}\")\n",
        "        return text\n",
        "\n",
        "# Test the function\n",
        "def test_translation():\n",
        "    # Initialize model\n",
        "    model, tokenizer = initialize_model()\n",
        "\n",
        "    # Test cases\n",
        "    arabic_texts = [\"منصور\" ,\n",
        "        \"مرحبا\",\n",
        "        \"محمد\",\n",
        "        \"كيف حالك\"\n",
        "    ]\n",
        "\n",
        "    print(\"Testing translations:\")\n",
        "    print(\"-\" * 40)\n",
        "    for text in arabic_texts:\n",
        "        translation = translate_arabic_to_english(text, model, tokenizer)\n",
        "        print(f\"Arabic: {text}\")\n",
        "        print(f\"English: {translation}\")\n",
        "        print(\"-\" * 40)\n",
        "\n",
        "# Run the test\n",
        "if __name__ == \"__main__\":\n",
        "    test_translation()"
      ],
      "metadata": {
        "colab": {
          "base_uri": "https://localhost:8080/"
        },
        "id": "VOB5ml_LHFGP",
        "outputId": "92f8fb84-607c-4adf-9fe5-6d0f265e73bc"
      },
      "execution_count": 7,
      "outputs": [
        {
          "output_type": "stream",
          "name": "stdout",
          "text": [
            "Loading tokenizer...\n"
          ]
        },
        {
          "output_type": "stream",
          "name": "stderr",
          "text": [
            "/usr/local/lib/python3.11/dist-packages/transformers/models/marian/tokenization_marian.py:175: UserWarning: Recommended: pip install sacremoses.\n",
            "  warnings.warn(\"Recommended: pip install sacremoses.\")\n"
          ]
        },
        {
          "output_type": "stream",
          "name": "stdout",
          "text": [
            "Loading model...\n",
            "Model loaded on: cpu\n",
            "Testing translations:\n",
            "----------------------------------------\n",
            "Arabic: منصور\n",
            "English: Mansour\n",
            "----------------------------------------\n",
            "Arabic: مرحبا\n",
            "English: Hey.\n",
            "----------------------------------------\n",
            "Arabic: محمد\n",
            "English: Muhammad.\n",
            "----------------------------------------\n",
            "Arabic: كيف حالك\n",
            "English: How are you?\n",
            "----------------------------------------\n"
          ]
        }
      ]
    },
    {
      "cell_type": "code",
      "source": [
        "def main():\n",
        "    try:\n",
        "        # Initialize model\n",
        "        model, tokenizer = initialize_model()\n",
        "\n",
        "        # Read the Excel file\n",
        "        df = pd.read_excel(\"/content/translated_names_with_id_name.xlsx\")\n",
        "        df = df.head(2)\n",
        "        # Columns to translate\n",
        "        name_columns = ['Q2_MEM_NAME_FIRST', 'Q3_MEM_NAME_FATHER', 'Q4_MEM_NAME_GRAND']\n",
        "\n",
        "        # Translate each column\n",
        "        for col in name_columns:\n",
        "            if col in df.columns:\n",
        "                print(f\"\\nTranslating {col}...\")\n",
        "                df[f'{col}_ENGLISH'] = df[col].apply(\n",
        "                    lambda x: translate_arabic_to_english(x, model, tokenizer)\n",
        "                )\n",
        "            else:\n",
        "                print(f\"Warning: Column {col} not found in Excel file\")\n",
        "\n",
        "        # Save to Excel\n",
        "        output_file = \"/content/translated_names_with_id_name_01.xlsx\"\n",
        "        df.to_excel(output_file)\n",
        "        print(f\"\\nTranslations completed and saved to {output_file}\")\n",
        "\n",
        "    except Exception as e:\n",
        "        print(f\"Error processing Excel file: {e}\")\n",
        "        raise"
      ],
      "metadata": {
        "id": "EI44i8mYOywI"
      },
      "execution_count": 8,
      "outputs": []
    },
    {
      "cell_type": "code",
      "source": [
        "main()"
      ],
      "metadata": {
        "colab": {
          "base_uri": "https://localhost:8080/"
        },
        "id": "6VApIxnJPkHg",
        "outputId": "3722c9ea-faae-457d-a014-41703e72ddc3"
      },
      "execution_count": 9,
      "outputs": [
        {
          "output_type": "stream",
          "name": "stdout",
          "text": [
            "Loading tokenizer...\n",
            "Loading model...\n",
            "Model loaded on: cpu\n",
            "\n",
            "Translating Q2_MEM_NAME_FIRST...\n",
            "\n",
            "Translating Q3_MEM_NAME_FATHER...\n",
            "\n",
            "Translating Q4_MEM_NAME_GRAND...\n",
            "\n",
            "Translations completed and saved to /content/translated_names_with_id_name_01.xlsx\n"
          ]
        }
      ]
    },
    {
      "cell_type": "code",
      "source": [
        "def main_patch():\n",
        "    try:\n",
        "         # Initialize model\n",
        "        model, tokenizer = initialize_model()\n",
        "\n",
        "        # Read the Excel file\n",
        "        df = pd.read_excel(\"/content/translated_names_with_id_name.xlsx\")\n",
        "\n",
        "        # Columns to translate\n",
        "        name_columns = ['Q2_MEM_NAME_FIRST', 'Q3_MEM_NAME_FATHER', 'Q4_MEM_NAME_GRAND']\n",
        "\n",
        "        # Calculate number of batches\n",
        "        batch_size = 1000\n",
        "        total_rows = len(df)\n",
        "        num_batches = (total_rows + batch_size - 1) // batch_size\n",
        "\n",
        "        for batch_num in range(num_batches):\n",
        "            start_idx = batch_num * batch_size\n",
        "            end_idx = min((batch_num + 1) * batch_size, total_rows)\n",
        "\n",
        "            # Get batch of data\n",
        "            batch_df = df.iloc[start_idx:end_idx].copy()\n",
        "\n",
        "            # Translate each column for this batch\n",
        "            for col in name_columns:\n",
        "                if col in batch_df.columns:\n",
        "                    print(f\"\\nTranslating {col} for batch {batch_num + 1}/{num_batches}...\")\n",
        "                    batch_df[f'{col}_ENGLISH'] = batch_df[col].apply(\n",
        "                         lambda x: translate_arabic_to_english(x, model, tokenizer)\n",
        "                    )\n",
        "                else:\n",
        "                    print(f\"Warning: Column {col} not found in Excel file\")\n",
        "\n",
        "            # Save batch to Excel with sequence number\n",
        "            output_file = f\"/content/translated_names_with_id_name_{batch_num + 1:03d}.xlsx\"\n",
        "            batch_df.to_excel(output_file, index=False)\n",
        "            print(f\"Batch {batch_num + 1} saved to {output_file}\")\n",
        "\n",
        "        print(\"\\nAll batches processed successfully\")\n",
        "\n",
        "    except Exception as e:\n",
        "        print(f\"Error processing Excel file: {e}\")\n",
        "        raise"
      ],
      "metadata": {
        "id": "javVGUfcR4wn"
      },
      "execution_count": 10,
      "outputs": []
    },
    {
      "cell_type": "code",
      "source": [
        "main_patch()"
      ],
      "metadata": {
        "colab": {
          "base_uri": "https://localhost:8080/"
        },
        "id": "UJsAKngxSYfo",
        "outputId": "46cb964c-eaf9-4cc5-974f-f06d0db88209"
      },
      "execution_count": null,
      "outputs": [
        {
          "output_type": "stream",
          "name": "stdout",
          "text": [
            "Loading tokenizer...\n"
          ]
        },
        {
          "output_type": "stream",
          "name": "stderr",
          "text": [
            "/usr/local/lib/python3.11/dist-packages/transformers/models/marian/tokenization_marian.py:175: UserWarning: Recommended: pip install sacremoses.\n",
            "  warnings.warn(\"Recommended: pip install sacremoses.\")\n"
          ]
        },
        {
          "output_type": "stream",
          "name": "stdout",
          "text": [
            "Loading model...\n",
            "Model loaded on: cpu\n",
            "\n",
            "Translating Q2_MEM_NAME_FIRST for batch 1/21...\n",
            "\n",
            "Translating Q3_MEM_NAME_FATHER for batch 1/21...\n",
            "\n",
            "Translating Q4_MEM_NAME_GRAND for batch 1/21...\n",
            "Batch 1 saved to /content/translated_names_with_id_name_001.xlsx\n",
            "\n",
            "Translating Q2_MEM_NAME_FIRST for batch 2/21...\n",
            "\n",
            "Translating Q3_MEM_NAME_FATHER for batch 2/21...\n"
          ]
        }
      ]
    }
  ]
}