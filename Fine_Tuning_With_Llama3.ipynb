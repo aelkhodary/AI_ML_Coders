{
  "nbformat": 4,
  "nbformat_minor": 0,
  "metadata": {
    "colab": {
      "provenance": [],
      "machine_shape": "hm",
      "gpuType": "L4",
      "authorship_tag": "ABX9TyM7GhP3ir4vgtKx4X3dBd+J",
      "include_colab_link": true
    },
    "kernelspec": {
      "name": "python3",
      "display_name": "Python 3"
    },
    "language_info": {
      "name": "python"
    },
    "accelerator": "GPU"
  },
  "cells": [
    {
      "cell_type": "markdown",
      "metadata": {
        "id": "view-in-github",
        "colab_type": "text"
      },
      "source": [
        "<a href=\"https://colab.research.google.com/github/aelkhodary/AI_ML_Coders/blob/main/Fine_Tuning_With_Llama3.ipynb\" target=\"_parent\"><img src=\"https://colab.research.google.com/assets/colab-badge.svg\" alt=\"Open In Colab\"/></a>"
      ]
    },
    {
      "cell_type": "code",
      "execution_count": 9,
      "metadata": {
        "id": "-ZZrxdW-G43g"
      },
      "outputs": [],
      "source": [
        "!pip install torchao -q\n",
        "!pip3 install torchtune -q\n"
      ]
    },
    {
      "cell_type": "code",
      "source": [
        "import os\n",
        "os.environ['PATH'] += ':/usr/local/bin'"
      ],
      "metadata": {
        "id": "H7f5iQKSJ5GQ"
      },
      "execution_count": 10,
      "outputs": []
    },
    {
      "cell_type": "code",
      "source": [
        "!which tune\n",
        "!/usr/local/bin/tune ls"
      ],
      "metadata": {
        "colab": {
          "base_uri": "https://localhost:8080/"
        },
        "id": "aCYr0t0EJSpB",
        "outputId": "ab2802eb-a0ea-4ede-f316-8e3c6d11600f"
      },
      "execution_count": 11,
      "outputs": [
        {
          "output_type": "stream",
          "name": "stdout",
          "text": [
            "/usr/local/bin/tune\n",
            "RECIPE                                   CONFIG                                  \n",
            "full_finetune_single_device              llama2/7B_full_low_memory               \n",
            "                                         code_llama2/7B_full_low_memory          \n",
            "                                         llama3/8B_full_single_device            \n",
            "                                         llama3_1/8B_full_single_device          \n",
            "                                         llama3_2/1B_full_single_device          \n",
            "                                         llama3_2/3B_full_single_device          \n",
            "                                         mistral/7B_full_low_memory              \n",
            "                                         phi3/mini_full_low_memory               \n",
            "                                         qwen2/7B_full_single_device             \n",
            "                                         qwen2/0.5B_full_single_device           \n",
            "                                         qwen2/1.5B_full_single_device           \n",
            "                                         qwen2_5/0.5B_full_single_device         \n",
            "                                         qwen2_5/1.5B_full_single_device         \n",
            "                                         qwen2_5/3B_full_single_device           \n",
            "                                         qwen2_5/7B_full_single_device           \n",
            "                                         llama3_2_vision/11B_full_single_device  \n",
            "full_finetune_distributed                llama2/7B_full                          \n",
            "                                         llama2/13B_full                         \n",
            "                                         llama3/8B_full                          \n",
            "                                         llama3_1/8B_full                        \n",
            "                                         llama3_2/1B_full                        \n",
            "                                         llama3_2/3B_full                        \n",
            "                                         llama3/70B_full                         \n",
            "                                         llama3_1/70B_full                       \n",
            "                                         llama3_3/70B_full                       \n",
            "                                         mistral/7B_full                         \n",
            "                                         gemma/2B_full                           \n",
            "                                         gemma/7B_full                           \n",
            "                                         gemma2/2B_full                          \n",
            "                                         gemma2/9B_full                          \n",
            "                                         gemma2/27B_full                         \n",
            "                                         phi3/mini_full                          \n",
            "                                         qwen2/7B_full                           \n",
            "                                         qwen2/0.5B_full                         \n",
            "                                         qwen2/1.5B_full                         \n",
            "                                         qwen2_5/0.5B_full                       \n",
            "                                         qwen2_5/1.5B_full                       \n",
            "                                         qwen2_5/3B_full                         \n",
            "                                         qwen2_5/7B_full                         \n",
            "                                         llama3_2_vision/11B_full                \n",
            "                                         llama3_2_vision/90B_full                \n",
            "lora_finetune_single_device              llama2/7B_lora_single_device            \n",
            "                                         llama2/7B_qlora_single_device           \n",
            "                                         code_llama2/7B_lora_single_device       \n",
            "                                         code_llama2/7B_qlora_single_device      \n",
            "                                         llama3/8B_lora_single_device            \n",
            "                                         llama3_1/8B_lora_single_device          \n",
            "                                         llama3/8B_qlora_single_device           \n",
            "                                         llama3_2/1B_lora_single_device          \n",
            "                                         llama3_2/3B_lora_single_device          \n",
            "                                         llama3/8B_dora_single_device            \n",
            "                                         llama3/8B_qdora_single_device           \n",
            "                                         llama3_1/8B_qlora_single_device         \n",
            "                                         llama3_2/1B_qlora_single_device         \n",
            "                                         llama3_2/3B_qlora_single_device         \n",
            "                                         llama2/13B_qlora_single_device          \n",
            "                                         mistral/7B_lora_single_device           \n",
            "                                         mistral/7B_qlora_single_device          \n",
            "                                         gemma/2B_lora_single_device             \n",
            "                                         gemma/2B_qlora_single_device            \n",
            "                                         gemma/7B_lora_single_device             \n",
            "                                         gemma/7B_qlora_single_device            \n",
            "                                         gemma2/2B_lora_single_device            \n",
            "                                         gemma2/2B_qlora_single_device           \n",
            "                                         gemma2/9B_lora_single_device            \n",
            "                                         gemma2/9B_qlora_single_device           \n",
            "                                         gemma2/27B_lora_single_device           \n",
            "                                         gemma2/27B_qlora_single_device          \n",
            "                                         phi3/mini_lora_single_device            \n",
            "                                         phi3/mini_qlora_single_device           \n",
            "                                         qwen2/7B_lora_single_device             \n",
            "                                         qwen2/0.5B_lora_single_device           \n",
            "                                         qwen2/1.5B_lora_single_device           \n",
            "                                         qwen2_5/0.5B_lora_single_device         \n",
            "                                         qwen2_5/1.5B_lora_single_device         \n",
            "                                         qwen2_5/3B_lora_single_device           \n",
            "                                         qwen2_5/7B_lora_single_device           \n",
            "                                         qwen2_5/14B_lora_single_device          \n",
            "                                         llama3_2_vision/11B_lora_single_device  \n",
            "                                         llama3_2_vision/11B_qlora_single_device \n",
            "lora_dpo_single_device                   llama2/7B_lora_dpo_single_device        \n",
            "                                         llama3_1/8B_lora_dpo_single_device      \n",
            "lora_dpo_distributed                     llama2/7B_lora_dpo                      \n",
            "                                         llama3_1/8B_lora_dpo                    \n",
            "ppo_full_finetune_single_device          mistral/7B_full_ppo_low_memory          \n",
            "lora_finetune_distributed                llama2/7B_lora                          \n",
            "                                         llama2/13B_lora                         \n",
            "                                         llama2/70B_lora                         \n",
            "                                         llama2/7B_qlora                         \n",
            "                                         llama2/70B_qlora                        \n",
            "                                         llama3/8B_dora                          \n",
            "                                         llama3/70B_lora                         \n",
            "                                         llama3_1/70B_lora                       \n",
            "                                         llama3_3/70B_lora                       \n",
            "                                         llama3_3/70B_qlora                      \n",
            "                                         llama3/8B_lora                          \n",
            "                                         llama3_1/8B_lora                        \n",
            "                                         llama3_2/1B_lora                        \n",
            "                                         llama3_2/3B_lora                        \n",
            "                                         llama3_1/405B_qlora                     \n",
            "                                         mistral/7B_lora                         \n",
            "                                         gemma/2B_lora                           \n",
            "                                         gemma/7B_lora                           \n",
            "                                         gemma2/2B_lora                          \n",
            "                                         gemma2/9B_lora                          \n",
            "                                         gemma2/27B_lora                         \n",
            "                                         phi3/mini_lora                          \n",
            "                                         qwen2/7B_lora                           \n",
            "                                         qwen2/0.5B_lora                         \n",
            "                                         qwen2/1.5B_lora                         \n",
            "                                         qwen2_5/0.5B_lora                       \n",
            "                                         qwen2_5/1.5B_lora                       \n",
            "                                         qwen2_5/3B_lora                         \n",
            "                                         qwen2_5/7B_lora                         \n",
            "                                         qwen2_5/32B_lora                        \n",
            "                                         qwen2_5/72B_lora                        \n",
            "                                         llama3_2_vision/11B_lora                \n",
            "                                         llama3_2_vision/11B_qlora               \n",
            "                                         llama3_2_vision/90B_lora                \n",
            "                                         llama3_2_vision/90B_qlora               \n",
            "generate                                 generation                              \n",
            "dev/generate_v2                          llama2/generation_v2                    \n",
            "                                         llama3_2_vision/11B_generation_v2       \n",
            "dev/early_exit_finetune_distributed      llama2/7B_full_early_exit               \n",
            "eleuther_eval                            eleuther_evaluation                     \n",
            "                                         llama3_2_vision/11B_evaluation          \n",
            "                                         qwen2/evaluation                        \n",
            "                                         gemma/evaluation                        \n",
            "                                         phi3/evaluation                         \n",
            "                                         mistral/evaluation                      \n",
            "quantize                                 quantization                            \n",
            "qat_distributed                          llama2/7B_qat_full                      \n",
            "                                         llama3/8B_qat_full                      \n",
            "qat_lora_finetune_distributed            llama3/8B_qat_lora                      \n",
            "                                         llama3_1/8B_qat_lora                    \n",
            "                                         llama3_2/1B_qat_lora                    \n",
            "                                         llama3_2/3B_qat_lora                    \n",
            "knowledge_distillation_single_device     qwen2/1.5_to_0.5B_KD_lora_single_device \n",
            "                                         llama3_2/8B_to_1B_KD_lora_single_device \n",
            "knowledge_distillation_distributed       qwen2/1.5_to_0.5B_KD_lora_distributed   \n",
            "                                         llama3_2/8B_to_1B_KD_lora_distributed   \n"
          ]
        }
      ]
    }
  ]
}